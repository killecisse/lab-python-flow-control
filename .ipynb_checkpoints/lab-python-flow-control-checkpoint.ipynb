{
 "cells": [
  {
   "cell_type": "markdown",
   "id": "d3bfc191-8885-42ee-b0a0-bbab867c6f9f",
   "metadata": {
    "tags": []
   },
   "source": [
    "# Lab | Flow Control"
   ]
  },
  {
   "cell_type": "markdown",
   "id": "3851fcd1-cf98-4653-9c89-e003b7ec9400",
   "metadata": {},
   "source": [
    "## Exercise: Managing Customer Orders Optimized\n",
    "\n",
    "In the last lab, you were starting an online store that sells various products. To ensure smooth operations, you developed a program that manages customer orders and inventory.\n",
    "\n",
    "You did so without using flow control. Let's go a step further and improve this code.\n",
    "\n",
    "Follow the steps below to complete the exercise:\n",
    "\n",
    "1. Look at your code from the lab data structures, and improve repeated code with loops.\n",
    "\n",
    "2. Instead of asking the user to input the name of three products that a customer wants to order, do the following:\n",
    "    \n",
    "    a. Prompt the user to enter the name of a product that a customer wants to order.\n",
    "    \n",
    "    b. Add the product name to the \"customer_orders\" set.\n",
    "    \n",
    "    c. Ask the user if they want to add another product (yes/no).\n",
    "    \n",
    "    d. Continue the loop until the user does not want to add another product.\n",
    "\n",
    "3. Instead of updating the inventory by subtracting 1 from the quantity of each product, only do it for  the products that were ordered (those in \"customer_orders\")."
   ]
  },
  {
   "cell_type": "code",
   "execution_count": 1,
   "id": "277cab25",
   "metadata": {},
   "outputs": [
    {
     "name": "stdout",
     "output_type": "stream",
     "text": [
      "Input the quantity of stock left for t-shirt : 10\n",
      "Input the quantity of stock left for mug : 20\n",
      "Input the quantity of stock left for hat : 10\n",
      "Input the quantity of stock left for book : 20\n",
      "Input the quantity of stock left for keychain : 10\n"
     ]
    }
   ],
   "source": [
    "# Exercise: Managing Customer Orders\n",
    "\n",
    "# Step 1\n",
    "products = [\"t-shirt\", \"mug\", \"hat\", \"book\", \"keychain\"]\n",
    "\n",
    "# Step 2\n",
    "inventory = {}\n",
    "\n",
    "# Step 3\n",
    "for element in products:\n",
    "    inventory[element] = int(input(f\"Input the quantity of stock left for {element} : \"))\n",
    "    "
   ]
  },
  {
   "cell_type": "code",
   "execution_count": 3,
   "id": "c7e9f104",
   "metadata": {},
   "outputs": [
    {
     "name": "stdout",
     "output_type": "stream",
     "text": [
      "What product do you want to add ? hat\n",
      "Would you like to enter another number ? (y to continue) y\n",
      "What product do you want to add ? mug\n",
      "Would you like to enter another number ? (y to continue) y\n",
      "What product do you want to add ? keychain\n",
      "Would you like to enter another number ? (y to continue) b\n",
      "Products in the order :  {'hat', 'mug', 'keychain'}\n"
     ]
    }
   ],
   "source": [
    "customer_orders = set()\n",
    "\n",
    "user_continue = \"y\"\n",
    "while user_continue.lower() == \"y\" :\n",
    "    customer_orders.add(input(\"What product do you want to add ? \"))\n",
    "    user_continue = input(\"Would you like to enter another number ? (y to continue) \")\n",
    "\n",
    "print(\"Products in the order : \", customer_orders)"
   ]
  },
  {
   "cell_type": "code",
   "execution_count": 6,
   "id": "5a329f62",
   "metadata": {},
   "outputs": [
    {
     "name": "stdout",
     "output_type": "stream",
     "text": [
      "{'t-shirt': 10, 'mug': 18, 'hat': 8, 'book': 20, 'keychain': 8}\n"
     ]
    }
   ],
   "source": [
    "# Step 9\n",
    "\n",
    "for element in customer_orders:\n",
    "    if element in inventory and inventory[element] >0 : \n",
    "        inventory[element] -= 1\n",
    "    else :\n",
    "        print(f\"There is no more {element} in stock\")\n",
    "\n",
    "# Step 10\n",
    "print(inventory)"
   ]
  },
  {
   "cell_type": "code",
   "execution_count": 5,
   "id": "c11ae7ef",
   "metadata": {},
   "outputs": [
    {
     "name": "stdout",
     "output_type": "stream",
     "text": [
      "Order Statistics:\n",
      "Total Products Ordered: 3\n",
      "Percentage of Unique Products Ordered: 60.0\n"
     ]
    }
   ],
   "source": [
    "# Step 7\n",
    "total_products_ordered = len(customer_orders)\n",
    "percentage_ordered = (total_products_ordered / len(products)) * 100\n",
    "order_status = (total_products_ordered, percentage_ordered)\n",
    "\n",
    "# Step 8\n",
    "print(\"Order Statistics:\")\n",
    "print(\"Total Products Ordered:\", order_status[0])\n",
    "print(\"Percentage of Unique Products Ordered:\", order_status[1])"
   ]
  },
  {
   "cell_type": "code",
   "execution_count": null,
   "id": "f4db1999",
   "metadata": {},
   "outputs": [],
   "source": []
  }
 ],
 "metadata": {
  "kernelspec": {
   "display_name": "Python 3 (ipykernel)",
   "language": "python",
   "name": "python3"
  },
  "language_info": {
   "codemirror_mode": {
    "name": "ipython",
    "version": 3
   },
   "file_extension": ".py",
   "mimetype": "text/x-python",
   "name": "python",
   "nbconvert_exporter": "python",
   "pygments_lexer": "ipython3",
   "version": "3.11.5"
  }
 },
 "nbformat": 4,
 "nbformat_minor": 5
}
